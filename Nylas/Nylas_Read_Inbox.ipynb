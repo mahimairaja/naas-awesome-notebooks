{
 "cells": [
  {
   "cell_type": "markdown",
   "id": "9b65a128-58bb-4ebf-96e5-d49a7053a513",
   "metadata": {
    "papermill": {},
    "tags": []
   },
   "source": [
    "<img width=\"10%\" alt=\"Naas\" src=\"https://landen.imgix.net/jtci2pxwjczr/assets/5ice39g4.png?w=160\"/>"
   ]
  },
  {
   "cell_type": "markdown",
   "id": "897c2b36-f33f-4266-95b5-0835292cbb52",
   "metadata": {
    "papermill": {},
    "tags": []
   },
   "source": [
    "# Nylas - Read Inbox"
   ]
  },
  {
   "cell_type": "markdown",
   "id": "f0268c0a-d163-44a7-9bce-ea08405a8054",
   "metadata": {
    "papermill": {},
    "tags": []
   },
   "source": [
    "**Tags:** #nylas #email #inbox #read #dataframe #python"
   ]
  },
  {
   "cell_type": "markdown",
   "id": "bd5a8783-641c-4777-a07b-55efe83a30a7",
   "metadata": {
    "papermill": {},
    "tags": []
   },
   "source": [
    "**Author:** [Firstname Lastname]()"
   ]
  },
  {
   "cell_type": "markdown",
   "id": "65b125a2-cb7b-4825-bd0e-718d7f0cf0a1",
   "metadata": {
    "papermill": {},
    "tags": []
   },
   "source": [
    "**Last update:** 2023-10-08 (Created: 2023-10-08)"
   ]
  },
  {
   "cell_type": "markdown",
   "id": "4f67d040-4e62-4db2-84c3-daaf208baea8",
   "metadata": {
    "papermill": {},
    "tags": []
   },
   "source": [
    "**Description:** This notebook uses Nylas to read email inbox data and apply different filters like reading threads, latest email from a particular account, and showcase all the email with contents in a dataframe format using individual routines for every functions."
   ]
  },
  {
   "cell_type": "markdown",
   "id": "622f9edc-2b5b-4fcc-afb9-450d4e4ef106",
   "metadata": {
    "papermill": {},
    "tags": []
   },
   "source": [
    "**References:**\n",
    "- [Nylas Python SDK](https://developer.nylas.com/docs/sdks/python/)\n",
    "- [Python Dataframe](https://pandas.pydata.org/pandas-docs/stable/reference/api/pandas.DataFrame.html)"
   ]
  },
  {
   "cell_type": "code",
   "execution_count": 6,
   "id": "77da3638-55fa-4b4b-aba0-c0a24ef88051",
   "metadata": {
    "scrolled": true
   },
   "outputs": [],
   "source": [
    "!pip install -q nylas pandas"
   ]
  },
  {
   "cell_type": "markdown",
   "id": "d43d874a-94f6-4b1f-9c17-40c9e5b39a4d",
   "metadata": {
    "papermill": {},
    "tags": []
   },
   "source": [
    "## Input"
   ]
  },
  {
   "cell_type": "markdown",
   "id": "203b5e66-201b-463c-bb1b-b11f9f0ac2d8",
   "metadata": {
    "papermill": {},
    "tags": []
   },
   "source": [
    "### Import libraries"
   ]
  },
  {
   "cell_type": "code",
   "execution_count": 1,
   "id": "4a510578-9e65-45d1-850d-6e06f05965a6",
   "metadata": {
    "papermill": {},
    "tags": []
   },
   "outputs": [],
   "source": [
    "import nylas\n",
    "import pandas as pd"
   ]
  },
  {
   "cell_type": "markdown",
   "id": "99cdf3ad-a09b-45a4-914b-f73d7747daa7",
   "metadata": {
    "papermill": {},
    "tags": []
   },
   "source": [
    "### Setup variables\n",
    "- `APP_ID`: Nylas App ID\n",
    "- `APP_SECRET`: Nylas App Secret\n",
    "- `ACCESS_TOKEN`: Nylas Access Token"
   ]
  },
  {
   "cell_type": "markdown",
   "id": "c43aae80-9134-4d2b-a86b-2b8a03c1d7dd",
   "metadata": {
    "papermill": {},
    "tags": []
   },
   "source": [
    "To get the `APP_ID`, `APP_SECRET` and `ACCESS_TOKEN`, please refer to the [Nylas Documentation](https://developer.nylas.com/docs/getting-started/authentication)."
   ]
  },
  {
   "cell_type": "code",
   "execution_count": 2,
   "id": "145864a6-b71a-4b03-a2ad-e40fc1535ca2",
   "metadata": {
    "papermill": {},
    "tags": []
   },
   "outputs": [],
   "source": [
    "# APP_ID = \"<APP_ID>\"\n",
    "# APP_SECRET = \"<APP_SECRET>\"\n",
    "# ACCESS_TOKEN = \"<ACCESS_TOKEN>\"\n",
    "\n",
    "APP_ID = \"dptzkndwcvt0j6wlbgic6n2gh\"\n",
    "APP_SECRET = \"6m95tot2v5crg68yoek56hftg\"\n",
    "ACCESS_TOKEN = \"7nVLT2rDMWQSOHlmSfqWrV4qgioS8P\""
   ]
  },
  {
   "cell_type": "markdown",
   "id": "9c86ca2d-b5f1-4d42-8829-c6bff639c67b",
   "metadata": {
    "papermill": {},
    "tags": []
   },
   "source": [
    "## Model"
   ]
  },
  {
   "cell_type": "markdown",
   "id": "39c42a7b-56d0-4776-8362-e6808c0b2ae2",
   "metadata": {
    "papermill": {},
    "tags": []
   },
   "source": [
    "### Read Inbox"
   ]
  },
  {
   "cell_type": "markdown",
   "id": "42a3b31e-f9db-437f-9f37-0dbe0d90fd20",
   "metadata": {
    "papermill": {},
    "tags": []
   },
   "source": [
    "This routine will read the inbox data and store it in a dataframe format."
   ]
  },
  {
   "cell_type": "code",
   "execution_count": 4,
   "id": "61a0b741-f46e-430d-b128-f3c89a4b7654",
   "metadata": {
    "papermill": {},
    "scrolled": true,
    "tags": []
   },
   "outputs": [],
   "source": [
    "# Initialize the Nylas client\n",
    "nylas = nylas.APIClient(APP_ID, APP_SECRET, ACCESS_TOKEN)\n",
    "# Get the inbox data\n",
    "inbox_data = [{k: v for k, v in data.items()} for data in nylas.threads.all()]\n",
    "# Store the inbox data in a dataframe\n",
    "inbox_df = pd.DataFrame(inbox_data)"
   ]
  },
  {
   "cell_type": "markdown",
   "id": "832e035a-1a8a-4d2f-b56a-f683edbe80e0",
   "metadata": {
    "papermill": {},
    "tags": []
   },
   "source": [
    "## Output"
   ]
  },
  {
   "cell_type": "markdown",
   "id": "c9fc937d-ce30-43d5-9a41-a0251c950854",
   "metadata": {
    "papermill": {},
    "tags": []
   },
   "source": [
    "### Display result"
   ]
  },
  {
   "cell_type": "code",
   "execution_count": 5,
   "id": "6b725f1a-b229-4923-951a-7c84ba68c1ab",
   "metadata": {
    "papermill": {},
    "tags": []
   },
   "outputs": [
    {
     "data": {
      "text/html": [
       "<div>\n",
       "<style scoped>\n",
       "    .dataframe tbody tr th:only-of-type {\n",
       "        vertical-align: middle;\n",
       "    }\n",
       "\n",
       "    .dataframe tbody tr th {\n",
       "        vertical-align: top;\n",
       "    }\n",
       "\n",
       "    .dataframe thead th {\n",
       "        text-align: right;\n",
       "    }\n",
       "</style>\n",
       "<table border=\"1\" class=\"dataframe\">\n",
       "  <thead>\n",
       "    <tr style=\"text-align: right;\">\n",
       "      <th></th>\n",
       "      <th>id</th>\n",
       "      <th>cls</th>\n",
       "      <th>api</th>\n",
       "      <th>draft_ids</th>\n",
       "      <th>message_ids</th>\n",
       "      <th>account_id</th>\n",
       "      <th>object</th>\n",
       "      <th>participants</th>\n",
       "      <th>snippet</th>\n",
       "      <th>subject</th>\n",
       "      <th>...</th>\n",
       "      <th>last_message_received_timestamp</th>\n",
       "      <th>last_message_sent_timestamp</th>\n",
       "      <th>unread</th>\n",
       "      <th>starred</th>\n",
       "      <th>version</th>\n",
       "      <th>_labels</th>\n",
       "      <th>has_attachments</th>\n",
       "      <th>first_message_at</th>\n",
       "      <th>last_message_at</th>\n",
       "      <th>last_message_received_at</th>\n",
       "    </tr>\n",
       "  </thead>\n",
       "  <tbody>\n",
       "    <tr>\n",
       "      <th>0</th>\n",
       "      <td>400o999clfjtfpckztvtzdrk3</td>\n",
       "      <td>&lt;class 'nylas.client.restful_models.Thread'&gt;</td>\n",
       "      <td>&lt;nylas.client.client.APIClient object at 0x7ff...</td>\n",
       "      <td>[]</td>\n",
       "      <td>[4nrxycyvd3yv931vcwac6ddw3, 7wpve8gor89wlyk7gk...</td>\n",
       "      <td>9dmmjaq9nnnun8oy4ge0g21wy</td>\n",
       "      <td>thread</td>\n",
       "      <td>[{'email': 'yourmahe007@gmail.com', 'name': ''...</td>\n",
       "      <td>Nylas Quickstart was granted access to your Go...</td>\n",
       "      <td>Security alert</td>\n",
       "      <td>...</td>\n",
       "      <td>1702319490</td>\n",
       "      <td>None</td>\n",
       "      <td>False</td>\n",
       "      <td>False</td>\n",
       "      <td>3</td>\n",
       "      <td>[{'display_name': 'Category Updates', 'id': 'a...</td>\n",
       "      <td>False</td>\n",
       "      <td>2023-12-11 18:31:25</td>\n",
       "      <td>2023-12-11 18:31:30</td>\n",
       "      <td>2023-12-11 18:31:30</td>\n",
       "    </tr>\n",
       "    <tr>\n",
       "      <th>1</th>\n",
       "      <td>7a5ruuif7ei4o437jymgkib56</td>\n",
       "      <td>&lt;class 'nylas.client.restful_models.Thread'&gt;</td>\n",
       "      <td>&lt;nylas.client.client.APIClient object at 0x7ff...</td>\n",
       "      <td>[]</td>\n",
       "      <td>[4s3mbnjrf99evxudqs7pl8yqy]</td>\n",
       "      <td>9dmmjaq9nnnun8oy4ge0g21wy</td>\n",
       "      <td>thread</td>\n",
       "      <td>[{'email': 'service@dingtone.me', 'name': ''},...</td>\n",
       "      <td>Hey! Congratulations, you are now on Dingtone....</td>\n",
       "      <td>Confirm Your Email Address on Dingtone</td>\n",
       "      <td>...</td>\n",
       "      <td>1702308627</td>\n",
       "      <td>None</td>\n",
       "      <td>False</td>\n",
       "      <td>False</td>\n",
       "      <td>0</td>\n",
       "      <td>[{'display_name': 'Category Personal', 'id': '...</td>\n",
       "      <td>False</td>\n",
       "      <td>2023-12-11 15:30:27</td>\n",
       "      <td>2023-12-11 15:30:27</td>\n",
       "      <td>2023-12-11 15:30:27</td>\n",
       "    </tr>\n",
       "    <tr>\n",
       "      <th>2</th>\n",
       "      <td>46lozqrksre0n7kkhxfkw6w0h</td>\n",
       "      <td>&lt;class 'nylas.client.restful_models.Thread'&gt;</td>\n",
       "      <td>&lt;nylas.client.client.APIClient object at 0x7ff...</td>\n",
       "      <td>[]</td>\n",
       "      <td>[2g9uitluu2dw5pr1lhzpyqnko]</td>\n",
       "      <td>9dmmjaq9nnnun8oy4ge0g21wy</td>\n",
       "      <td>thread</td>\n",
       "      <td>[{'email': 'yourmahe007@gmail.com', 'name': 'M...</td>\n",
       "      <td>A famous Henry Ford quote emphasizes how much ...</td>\n",
       "      <td>Hidden factor that will have a significant imp...</td>\n",
       "      <td>...</td>\n",
       "      <td>1702281405</td>\n",
       "      <td>None</td>\n",
       "      <td>True</td>\n",
       "      <td>False</td>\n",
       "      <td>1</td>\n",
       "      <td>[{'display_name': 'Category Personal', 'id': '...</td>\n",
       "      <td>False</td>\n",
       "      <td>2023-12-11 07:56:45</td>\n",
       "      <td>2023-12-11 07:56:45</td>\n",
       "      <td>2023-12-11 07:56:45</td>\n",
       "    </tr>\n",
       "    <tr>\n",
       "      <th>3</th>\n",
       "      <td>1jx0vw1n0av0ehdcepkmwnwxr</td>\n",
       "      <td>&lt;class 'nylas.client.restful_models.Thread'&gt;</td>\n",
       "      <td>&lt;nylas.client.client.APIClient object at 0x7ff...</td>\n",
       "      <td>[]</td>\n",
       "      <td>[cul39gxwfr3k1w0qs45uvmlam]</td>\n",
       "      <td>9dmmjaq9nnnun8oy4ge0g21wy</td>\n",
       "      <td>thread</td>\n",
       "      <td>[{'email': 'yourmahe007@gmail.com', 'name': 'M...</td>\n",
       "      <td>✍Write like a pro! Today we want to draw your ...</td>\n",
       "      <td>✍ Write like a pro!</td>\n",
       "      <td>...</td>\n",
       "      <td>1702196926</td>\n",
       "      <td>None</td>\n",
       "      <td>True</td>\n",
       "      <td>False</td>\n",
       "      <td>1</td>\n",
       "      <td>[{'display_name': 'Category Promotions', 'id':...</td>\n",
       "      <td>False</td>\n",
       "      <td>2023-12-10 08:28:46</td>\n",
       "      <td>2023-12-10 08:28:46</td>\n",
       "      <td>2023-12-10 08:28:46</td>\n",
       "    </tr>\n",
       "    <tr>\n",
       "      <th>4</th>\n",
       "      <td>8vlt6nwdkvgy515y70eykobmi</td>\n",
       "      <td>&lt;class 'nylas.client.restful_models.Thread'&gt;</td>\n",
       "      <td>&lt;nylas.client.client.APIClient object at 0x7ff...</td>\n",
       "      <td>[]</td>\n",
       "      <td>[87j7ljrf0ss0126az2z7f0kou]</td>\n",
       "      <td>9dmmjaq9nnnun8oy4ge0g21wy</td>\n",
       "      <td>thread</td>\n",
       "      <td>[{'email': 'yourmahe007@gmail.com', 'name': 'M...</td>\n",
       "      <td>Question statement: His ideas were finally acc...</td>\n",
       "      <td>😱 Synonyms to search for in IELTS listening an...</td>\n",
       "      <td>...</td>\n",
       "      <td>1702113064</td>\n",
       "      <td>None</td>\n",
       "      <td>True</td>\n",
       "      <td>False</td>\n",
       "      <td>1</td>\n",
       "      <td>[{'display_name': 'Category Personal', 'id': '...</td>\n",
       "      <td>False</td>\n",
       "      <td>2023-12-09 09:11:04</td>\n",
       "      <td>2023-12-09 09:11:04</td>\n",
       "      <td>2023-12-09 09:11:04</td>\n",
       "    </tr>\n",
       "  </tbody>\n",
       "</table>\n",
       "<p>5 rows × 22 columns</p>\n",
       "</div>"
      ],
      "text/plain": [
       "                          id                                           cls  \\\n",
       "0  400o999clfjtfpckztvtzdrk3  <class 'nylas.client.restful_models.Thread'>   \n",
       "1  7a5ruuif7ei4o437jymgkib56  <class 'nylas.client.restful_models.Thread'>   \n",
       "2  46lozqrksre0n7kkhxfkw6w0h  <class 'nylas.client.restful_models.Thread'>   \n",
       "3  1jx0vw1n0av0ehdcepkmwnwxr  <class 'nylas.client.restful_models.Thread'>   \n",
       "4  8vlt6nwdkvgy515y70eykobmi  <class 'nylas.client.restful_models.Thread'>   \n",
       "\n",
       "                                                 api draft_ids  \\\n",
       "0  <nylas.client.client.APIClient object at 0x7ff...        []   \n",
       "1  <nylas.client.client.APIClient object at 0x7ff...        []   \n",
       "2  <nylas.client.client.APIClient object at 0x7ff...        []   \n",
       "3  <nylas.client.client.APIClient object at 0x7ff...        []   \n",
       "4  <nylas.client.client.APIClient object at 0x7ff...        []   \n",
       "\n",
       "                                         message_ids  \\\n",
       "0  [4nrxycyvd3yv931vcwac6ddw3, 7wpve8gor89wlyk7gk...   \n",
       "1                        [4s3mbnjrf99evxudqs7pl8yqy]   \n",
       "2                        [2g9uitluu2dw5pr1lhzpyqnko]   \n",
       "3                        [cul39gxwfr3k1w0qs45uvmlam]   \n",
       "4                        [87j7ljrf0ss0126az2z7f0kou]   \n",
       "\n",
       "                  account_id  object  \\\n",
       "0  9dmmjaq9nnnun8oy4ge0g21wy  thread   \n",
       "1  9dmmjaq9nnnun8oy4ge0g21wy  thread   \n",
       "2  9dmmjaq9nnnun8oy4ge0g21wy  thread   \n",
       "3  9dmmjaq9nnnun8oy4ge0g21wy  thread   \n",
       "4  9dmmjaq9nnnun8oy4ge0g21wy  thread   \n",
       "\n",
       "                                        participants  \\\n",
       "0  [{'email': 'yourmahe007@gmail.com', 'name': ''...   \n",
       "1  [{'email': 'service@dingtone.me', 'name': ''},...   \n",
       "2  [{'email': 'yourmahe007@gmail.com', 'name': 'M...   \n",
       "3  [{'email': 'yourmahe007@gmail.com', 'name': 'M...   \n",
       "4  [{'email': 'yourmahe007@gmail.com', 'name': 'M...   \n",
       "\n",
       "                                             snippet  \\\n",
       "0  Nylas Quickstart was granted access to your Go...   \n",
       "1  Hey! Congratulations, you are now on Dingtone....   \n",
       "2  A famous Henry Ford quote emphasizes how much ...   \n",
       "3  ✍Write like a pro! Today we want to draw your ...   \n",
       "4  Question statement: His ideas were finally acc...   \n",
       "\n",
       "                                             subject  ...  \\\n",
       "0                                     Security alert  ...   \n",
       "1             Confirm Your Email Address on Dingtone  ...   \n",
       "2  Hidden factor that will have a significant imp...  ...   \n",
       "3                                ✍ Write like a pro!  ...   \n",
       "4  😱 Synonyms to search for in IELTS listening an...  ...   \n",
       "\n",
       "   last_message_received_timestamp  last_message_sent_timestamp  unread  \\\n",
       "0                       1702319490                         None   False   \n",
       "1                       1702308627                         None   False   \n",
       "2                       1702281405                         None    True   \n",
       "3                       1702196926                         None    True   \n",
       "4                       1702113064                         None    True   \n",
       "\n",
       "  starred  version                                            _labels  \\\n",
       "0   False        3  [{'display_name': 'Category Updates', 'id': 'a...   \n",
       "1   False        0  [{'display_name': 'Category Personal', 'id': '...   \n",
       "2   False        1  [{'display_name': 'Category Personal', 'id': '...   \n",
       "3   False        1  [{'display_name': 'Category Promotions', 'id':...   \n",
       "4   False        1  [{'display_name': 'Category Personal', 'id': '...   \n",
       "\n",
       "   has_attachments    first_message_at     last_message_at  \\\n",
       "0            False 2023-12-11 18:31:25 2023-12-11 18:31:30   \n",
       "1            False 2023-12-11 15:30:27 2023-12-11 15:30:27   \n",
       "2            False 2023-12-11 07:56:45 2023-12-11 07:56:45   \n",
       "3            False 2023-12-10 08:28:46 2023-12-10 08:28:46   \n",
       "4            False 2023-12-09 09:11:04 2023-12-09 09:11:04   \n",
       "\n",
       "  last_message_received_at  \n",
       "0      2023-12-11 18:31:30  \n",
       "1      2023-12-11 15:30:27  \n",
       "2      2023-12-11 07:56:45  \n",
       "3      2023-12-10 08:28:46  \n",
       "4      2023-12-09 09:11:04  \n",
       "\n",
       "[5 rows x 22 columns]"
      ]
     },
     "execution_count": 5,
     "metadata": {},
     "output_type": "execute_result"
    }
   ],
   "source": [
    "inbox_df.head()"
   ]
  },
  {
   "cell_type": "markdown",
   "id": "488b91db-fe45-4984-af23-413b07933ba9",
   "metadata": {
    "papermill": {},
    "tags": []
   },
   "source": [
    " "
   ]
  }
 ],
 "metadata": {
  "kernelspec": {
   "display_name": "Python 3 (ipykernel)",
   "language": "python",
   "name": "python3"
  },
  "language_info": {
   "codemirror_mode": {
    "name": "ipython",
    "version": 3
   },
   "file_extension": ".py",
   "mimetype": "text/x-python",
   "name": "python",
   "nbconvert_exporter": "python",
   "pygments_lexer": "ipython3",
   "version": "3.8.18"
  },
  "widgets": {
   "application/vnd.jupyter.widget-state+json": {
    "state": {},
    "version_major": 2,
    "version_minor": 0
   }
  }
 },
 "nbformat": 4,
 "nbformat_minor": 5
}
